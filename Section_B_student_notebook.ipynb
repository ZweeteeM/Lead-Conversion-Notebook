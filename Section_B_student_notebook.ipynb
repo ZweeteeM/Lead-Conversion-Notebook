{
  "cells": [
    {
      "cell_type": "markdown",
      "id": "283b2af9-8e11-4a41-a5c3-693ed37e2635",
      "metadata": {
        "id": "283b2af9-8e11-4a41-a5c3-693ed37e2635"
      },
      "source": [
        "# Section B: Practical questions with applied multiple choice\n",
        "\n"
      ]
    },
    {
      "cell_type": "markdown",
      "id": "7fadb51a",
      "metadata": {
        "id": "7fadb51a"
      },
      "source": [
        "## General Rules:\n",
        "- This is an open book examination.\n",
        "- Students may make use of a calculator.\n",
        "- This is an online examination where you will access a computer; however you may not communicate with other students in any form.\n",
        "- Headphone are prohibited.\n",
        "- The use of AI (chatGPT etc.) is prohibited.\n",
        "- All cell phones are to be switched off for the duration of the exam.\n",
        "- The invigilator will not assist you with the explanation of questions.\n",
        "- Students are prohibited from conversing in any manner with other students."
      ]
    },
    {
      "cell_type": "markdown",
      "id": "55e4e28a",
      "metadata": {
        "id": "55e4e28a"
      },
      "source": [
        " ## My Name and Surname\n",
        "\n",
        "Name =    Zwiitwaho                           \n",
        "</br>\n",
        "Surname =  Mugodo"
      ]
    },
    {
      "cell_type": "markdown",
      "id": "1a211a88-95e3-4fc9-9193-4233726242ed",
      "metadata": {
        "id": "1a211a88-95e3-4fc9-9193-4233726242ed"
      },
      "source": [
        "## Instructions:\n",
        "- Complete the questions below and answer the associated multiple-choice questions on Athena. It is recommended to complete each part and then answer the associated Athena questions.\n",
        "- Remember to **submit this notebook** once you have completed all the questions.\n",
        "- Please open only **one instance** of Athena when completing this exam.\n",
        "- Although this notebook will not necessarily be assessed directly, sections of it could be used to contribute to your overall portfolio of evidence.\n",
        "- Do not edit or remove the ### START FUNCTION or ### END FUNCTION comments.\n",
        "- Do not add any code outside of the code blocks you are required to edit. (use another notebook if necessary)\n",
        "- Remember the honour code, and that this is a **proctored exam**.\n",
        "\n"
      ]
    },
    {
      "cell_type": "markdown",
      "id": "9083f6c0-98c3-4729-b0af-2cb4117998b3",
      "metadata": {
        "id": "9083f6c0-98c3-4729-b0af-2cb4117998b3"
      },
      "source": [
        "### Part 1: SQL Queries\n",
        "You are provided with a pre-populated SQLite database named `bike_store.db`. Download [here](https://github.com/Explore-AI/Public-Data/blob/master/Data/Bike_store/bike_store.db) if you haven't already. Your task is to explore this database and write a series of SQL queries to perform the tasks detailed below. Queries should be optimised to run within 20 seconds or less.\n",
        "\n",
        "\n",
        "The tables and columns included in the `bike_store.db` are:\n",
        "- `brands`: brand_id, brand_name\n",
        "- `staff`: staff_id, first_name, last_name, email, phone, active, store_id, manager_id\n",
        "- `categories`: category_id, category_name\n",
        "- `customers`: customer_id, first_name, last_name, phone, email, street, city, state, zip_code\n",
        "- `order_items`: order_id, item_id, product_id, quantity, list_price, discount\n",
        "- `orders`: order_id, customer_id, order_status, order_date, required_date, shipped_date, store_id, staff_id\n",
        "- `products`: product_id, product_name, brand_id, category_id, model_year, list_price\n",
        "- `stock`: store_id, product_id, quantity\n",
        "- `stores`: store_id, store_name, phone, email, street, city, state, zip_code"
      ]
    },
    {
      "cell_type": "code",
      "execution_count": 1,
      "id": "049d3956",
      "metadata": {
        "id": "049d3956"
      },
      "outputs": [],
      "source": [
        "import os\n",
        "import json\n",
        "import random\n",
        "import sqlite3\n",
        "import pandas as pd\n",
        "import numpy as np\n",
        "\n",
        "import seaborn as sns\n",
        "\n",
        "from sklearn.preprocessing import StandardScaler\n",
        "from sklearn.model_selection import train_test_split\n",
        "from sklearn.linear_model import LinearRegression\n",
        "from sklearn.metrics import r2_score, mean_squared_error\n",
        "from sklearn.preprocessing import PolynomialFeatures\n",
        "\n",
        "import matplotlib.pyplot as plt"
      ]
    },
    {
      "cell_type": "code",
      "execution_count": 2,
      "id": "f1b20e51",
      "metadata": {
        "colab": {
          "base_uri": "https://localhost:8080/"
        },
        "id": "f1b20e51",
        "outputId": "1bf94b41-0bbb-47a6-d448-f474866b54ff"
      },
      "outputs": [
        {
          "output_type": "stream",
          "name": "stdout",
          "text": [
            "Opened SQLite database with version 3.37.2 successfully.\n"
          ]
        }
      ],
      "source": [
        "# Load your database and create a database connection.\n",
        "# You can connect to the sql database in any way you wish.\n",
        "# Use this method if you are unsure how to proceed.\n",
        "# Ensure the bike_store.db file is in the same directory as this notebook.\n",
        "try:\n",
        "    with sqlite3.connect(\"bike_store.db\") as conn:\n",
        "        print(f\"Opened SQLite database with version {sqlite3.sqlite_version} successfully.\")\n",
        "\n",
        "except sqlite3.OperationalError as e:\n",
        "    print(\"Failed to open database:\", e)\n",
        "\n"
      ]
    },
    {
      "cell_type": "code",
      "execution_count": 28,
      "id": "1d3232f1",
      "metadata": {
        "colab": {
          "base_uri": "https://localhost:8080/",
          "height": 53
        },
        "id": "1d3232f1",
        "outputId": "7776e548-39d0-4ecf-a28a-885a08805a45"
      },
      "outputs": [
        {
          "output_type": "execute_result",
          "data": {
            "text/plain": [
              "Empty DataFrame\n",
              "Columns: [name]\n",
              "Index: []"
            ],
            "text/html": [
              "\n",
              "  <div id=\"df-9a915f35-d883-451a-af6b-d463628a2473\" class=\"colab-df-container\">\n",
              "    <div>\n",
              "<style scoped>\n",
              "    .dataframe tbody tr th:only-of-type {\n",
              "        vertical-align: middle;\n",
              "    }\n",
              "\n",
              "    .dataframe tbody tr th {\n",
              "        vertical-align: top;\n",
              "    }\n",
              "\n",
              "    .dataframe thead th {\n",
              "        text-align: right;\n",
              "    }\n",
              "</style>\n",
              "<table border=\"1\" class=\"dataframe\">\n",
              "  <thead>\n",
              "    <tr style=\"text-align: right;\">\n",
              "      <th></th>\n",
              "      <th>name</th>\n",
              "    </tr>\n",
              "  </thead>\n",
              "  <tbody>\n",
              "  </tbody>\n",
              "</table>\n",
              "</div>\n",
              "    <div class=\"colab-df-buttons\">\n",
              "\n",
              "  <div class=\"colab-df-container\">\n",
              "    <button class=\"colab-df-convert\" onclick=\"convertToInteractive('df-9a915f35-d883-451a-af6b-d463628a2473')\"\n",
              "            title=\"Convert this dataframe to an interactive table.\"\n",
              "            style=\"display:none;\">\n",
              "\n",
              "  <svg xmlns=\"http://www.w3.org/2000/svg\" height=\"24px\" viewBox=\"0 -960 960 960\">\n",
              "    <path d=\"M120-120v-720h720v720H120Zm60-500h600v-160H180v160Zm220 220h160v-160H400v160Zm0 220h160v-160H400v160ZM180-400h160v-160H180v160Zm440 0h160v-160H620v160ZM180-180h160v-160H180v160Zm440 0h160v-160H620v160Z\"/>\n",
              "  </svg>\n",
              "    </button>\n",
              "\n",
              "  <style>\n",
              "    .colab-df-container {\n",
              "      display:flex;\n",
              "      gap: 12px;\n",
              "    }\n",
              "\n",
              "    .colab-df-convert {\n",
              "      background-color: #E8F0FE;\n",
              "      border: none;\n",
              "      border-radius: 50%;\n",
              "      cursor: pointer;\n",
              "      display: none;\n",
              "      fill: #1967D2;\n",
              "      height: 32px;\n",
              "      padding: 0 0 0 0;\n",
              "      width: 32px;\n",
              "    }\n",
              "\n",
              "    .colab-df-convert:hover {\n",
              "      background-color: #E2EBFA;\n",
              "      box-shadow: 0px 1px 2px rgba(60, 64, 67, 0.3), 0px 1px 3px 1px rgba(60, 64, 67, 0.15);\n",
              "      fill: #174EA6;\n",
              "    }\n",
              "\n",
              "    .colab-df-buttons div {\n",
              "      margin-bottom: 4px;\n",
              "    }\n",
              "\n",
              "    [theme=dark] .colab-df-convert {\n",
              "      background-color: #3B4455;\n",
              "      fill: #D2E3FC;\n",
              "    }\n",
              "\n",
              "    [theme=dark] .colab-df-convert:hover {\n",
              "      background-color: #434B5C;\n",
              "      box-shadow: 0px 1px 3px 1px rgba(0, 0, 0, 0.15);\n",
              "      filter: drop-shadow(0px 1px 2px rgba(0, 0, 0, 0.3));\n",
              "      fill: #FFFFFF;\n",
              "    }\n",
              "  </style>\n",
              "\n",
              "    <script>\n",
              "      const buttonEl =\n",
              "        document.querySelector('#df-9a915f35-d883-451a-af6b-d463628a2473 button.colab-df-convert');\n",
              "      buttonEl.style.display =\n",
              "        google.colab.kernel.accessAllowed ? 'block' : 'none';\n",
              "\n",
              "      async function convertToInteractive(key) {\n",
              "        const element = document.querySelector('#df-9a915f35-d883-451a-af6b-d463628a2473');\n",
              "        const dataTable =\n",
              "          await google.colab.kernel.invokeFunction('convertToInteractive',\n",
              "                                                    [key], {});\n",
              "        if (!dataTable) return;\n",
              "\n",
              "        const docLinkHtml = 'Like what you see? Visit the ' +\n",
              "          '<a target=\"_blank\" href=https://colab.research.google.com/notebooks/data_table.ipynb>data table notebook</a>'\n",
              "          + ' to learn more about interactive tables.';\n",
              "        element.innerHTML = '';\n",
              "        dataTable['output_type'] = 'display_data';\n",
              "        await google.colab.output.renderOutput(dataTable, element);\n",
              "        const docLink = document.createElement('div');\n",
              "        docLink.innerHTML = docLinkHtml;\n",
              "        element.appendChild(docLink);\n",
              "      }\n",
              "    </script>\n",
              "  </div>\n",
              "\n",
              "\n",
              "    </div>\n",
              "  </div>\n"
            ],
            "application/vnd.google.colaboratory.intrinsic+json": {
              "type": "dataframe",
              "repr_error": "Out of range float values are not JSON compliant: nan"
            }
          },
          "metadata": {},
          "execution_count": 28
        }
      ],
      "source": [
        "# The following tables are present in the bike_store.db file\n",
        "pd.read_sql('''SELECT name FROM sqlite_master WHERE type='table';''',conn)"
      ]
    },
    {
      "cell_type": "code",
      "source": [
        "from google.colab import files\n",
        "uploaded = files.upload()\n"
      ],
      "metadata": {
        "colab": {
          "base_uri": "https://localhost:8080/",
          "height": 73
        },
        "id": "26i7WxK6YZbv",
        "outputId": "b1e080c3-c5db-48d9-f1ca-c5cd64b147ff"
      },
      "id": "26i7WxK6YZbv",
      "execution_count": 29,
      "outputs": [
        {
          "output_type": "display_data",
          "data": {
            "text/plain": [
              "<IPython.core.display.HTML object>"
            ],
            "text/html": [
              "\n",
              "     <input type=\"file\" id=\"files-861ee30b-ac6c-4db3-9aaa-810acb7cd55a\" name=\"files[]\" multiple disabled\n",
              "        style=\"border:none\" />\n",
              "     <output id=\"result-861ee30b-ac6c-4db3-9aaa-810acb7cd55a\">\n",
              "      Upload widget is only available when the cell has been executed in the\n",
              "      current browser session. Please rerun this cell to enable.\n",
              "      </output>\n",
              "      <script>// Copyright 2017 Google LLC\n",
              "//\n",
              "// Licensed under the Apache License, Version 2.0 (the \"License\");\n",
              "// you may not use this file except in compliance with the License.\n",
              "// You may obtain a copy of the License at\n",
              "//\n",
              "//      http://www.apache.org/licenses/LICENSE-2.0\n",
              "//\n",
              "// Unless required by applicable law or agreed to in writing, software\n",
              "// distributed under the License is distributed on an \"AS IS\" BASIS,\n",
              "// WITHOUT WARRANTIES OR CONDITIONS OF ANY KIND, either express or implied.\n",
              "// See the License for the specific language governing permissions and\n",
              "// limitations under the License.\n",
              "\n",
              "/**\n",
              " * @fileoverview Helpers for google.colab Python module.\n",
              " */\n",
              "(function(scope) {\n",
              "function span(text, styleAttributes = {}) {\n",
              "  const element = document.createElement('span');\n",
              "  element.textContent = text;\n",
              "  for (const key of Object.keys(styleAttributes)) {\n",
              "    element.style[key] = styleAttributes[key];\n",
              "  }\n",
              "  return element;\n",
              "}\n",
              "\n",
              "// Max number of bytes which will be uploaded at a time.\n",
              "const MAX_PAYLOAD_SIZE = 100 * 1024;\n",
              "\n",
              "function _uploadFiles(inputId, outputId) {\n",
              "  const steps = uploadFilesStep(inputId, outputId);\n",
              "  const outputElement = document.getElementById(outputId);\n",
              "  // Cache steps on the outputElement to make it available for the next call\n",
              "  // to uploadFilesContinue from Python.\n",
              "  outputElement.steps = steps;\n",
              "\n",
              "  return _uploadFilesContinue(outputId);\n",
              "}\n",
              "\n",
              "// This is roughly an async generator (not supported in the browser yet),\n",
              "// where there are multiple asynchronous steps and the Python side is going\n",
              "// to poll for completion of each step.\n",
              "// This uses a Promise to block the python side on completion of each step,\n",
              "// then passes the result of the previous step as the input to the next step.\n",
              "function _uploadFilesContinue(outputId) {\n",
              "  const outputElement = document.getElementById(outputId);\n",
              "  const steps = outputElement.steps;\n",
              "\n",
              "  const next = steps.next(outputElement.lastPromiseValue);\n",
              "  return Promise.resolve(next.value.promise).then((value) => {\n",
              "    // Cache the last promise value to make it available to the next\n",
              "    // step of the generator.\n",
              "    outputElement.lastPromiseValue = value;\n",
              "    return next.value.response;\n",
              "  });\n",
              "}\n",
              "\n",
              "/**\n",
              " * Generator function which is called between each async step of the upload\n",
              " * process.\n",
              " * @param {string} inputId Element ID of the input file picker element.\n",
              " * @param {string} outputId Element ID of the output display.\n",
              " * @return {!Iterable<!Object>} Iterable of next steps.\n",
              " */\n",
              "function* uploadFilesStep(inputId, outputId) {\n",
              "  const inputElement = document.getElementById(inputId);\n",
              "  inputElement.disabled = false;\n",
              "\n",
              "  const outputElement = document.getElementById(outputId);\n",
              "  outputElement.innerHTML = '';\n",
              "\n",
              "  const pickedPromise = new Promise((resolve) => {\n",
              "    inputElement.addEventListener('change', (e) => {\n",
              "      resolve(e.target.files);\n",
              "    });\n",
              "  });\n",
              "\n",
              "  const cancel = document.createElement('button');\n",
              "  inputElement.parentElement.appendChild(cancel);\n",
              "  cancel.textContent = 'Cancel upload';\n",
              "  const cancelPromise = new Promise((resolve) => {\n",
              "    cancel.onclick = () => {\n",
              "      resolve(null);\n",
              "    };\n",
              "  });\n",
              "\n",
              "  // Wait for the user to pick the files.\n",
              "  const files = yield {\n",
              "    promise: Promise.race([pickedPromise, cancelPromise]),\n",
              "    response: {\n",
              "      action: 'starting',\n",
              "    }\n",
              "  };\n",
              "\n",
              "  cancel.remove();\n",
              "\n",
              "  // Disable the input element since further picks are not allowed.\n",
              "  inputElement.disabled = true;\n",
              "\n",
              "  if (!files) {\n",
              "    return {\n",
              "      response: {\n",
              "        action: 'complete',\n",
              "      }\n",
              "    };\n",
              "  }\n",
              "\n",
              "  for (const file of files) {\n",
              "    const li = document.createElement('li');\n",
              "    li.append(span(file.name, {fontWeight: 'bold'}));\n",
              "    li.append(span(\n",
              "        `(${file.type || 'n/a'}) - ${file.size} bytes, ` +\n",
              "        `last modified: ${\n",
              "            file.lastModifiedDate ? file.lastModifiedDate.toLocaleDateString() :\n",
              "                                    'n/a'} - `));\n",
              "    const percent = span('0% done');\n",
              "    li.appendChild(percent);\n",
              "\n",
              "    outputElement.appendChild(li);\n",
              "\n",
              "    const fileDataPromise = new Promise((resolve) => {\n",
              "      const reader = new FileReader();\n",
              "      reader.onload = (e) => {\n",
              "        resolve(e.target.result);\n",
              "      };\n",
              "      reader.readAsArrayBuffer(file);\n",
              "    });\n",
              "    // Wait for the data to be ready.\n",
              "    let fileData = yield {\n",
              "      promise: fileDataPromise,\n",
              "      response: {\n",
              "        action: 'continue',\n",
              "      }\n",
              "    };\n",
              "\n",
              "    // Use a chunked sending to avoid message size limits. See b/62115660.\n",
              "    let position = 0;\n",
              "    do {\n",
              "      const length = Math.min(fileData.byteLength - position, MAX_PAYLOAD_SIZE);\n",
              "      const chunk = new Uint8Array(fileData, position, length);\n",
              "      position += length;\n",
              "\n",
              "      const base64 = btoa(String.fromCharCode.apply(null, chunk));\n",
              "      yield {\n",
              "        response: {\n",
              "          action: 'append',\n",
              "          file: file.name,\n",
              "          data: base64,\n",
              "        },\n",
              "      };\n",
              "\n",
              "      let percentDone = fileData.byteLength === 0 ?\n",
              "          100 :\n",
              "          Math.round((position / fileData.byteLength) * 100);\n",
              "      percent.textContent = `${percentDone}% done`;\n",
              "\n",
              "    } while (position < fileData.byteLength);\n",
              "  }\n",
              "\n",
              "  // All done.\n",
              "  yield {\n",
              "    response: {\n",
              "      action: 'complete',\n",
              "    }\n",
              "  };\n",
              "}\n",
              "\n",
              "scope.google = scope.google || {};\n",
              "scope.google.colab = scope.google.colab || {};\n",
              "scope.google.colab._files = {\n",
              "  _uploadFiles,\n",
              "  _uploadFilesContinue,\n",
              "};\n",
              "})(self);\n",
              "</script> "
            ]
          },
          "metadata": {}
        },
        {
          "output_type": "stream",
          "name": "stdout",
          "text": [
            "Saving bike_store.db to bike_store (1).db\n"
          ]
        }
      ]
    },
    {
      "cell_type": "code",
      "source": [],
      "metadata": {
        "colab": {
          "base_uri": "https://localhost:8080/",
          "height": 106
        },
        "id": "yw65do52YYzu",
        "outputId": "4ebf043c-0b53-47d9-e950-c41e8423b307"
      },
      "id": "yw65do52YYzu",
      "execution_count": 31,
      "outputs": [
        {
          "output_type": "error",
          "ename": "SyntaxError",
          "evalue": "invalid syntax (<ipython-input-31-9bdac64f3458>, line 1)",
          "traceback": [
            "\u001b[0;36m  File \u001b[0;32m\"<ipython-input-31-9bdac64f3458>\"\u001b[0;36m, line \u001b[0;32m1\u001b[0m\n\u001b[0;31m    SELECT * FROM order;\u001b[0m\n\u001b[0m                  ^\u001b[0m\n\u001b[0;31mSyntaxError\u001b[0m\u001b[0;31m:\u001b[0m invalid syntax\n"
          ]
        }
      ]
    },
    {
      "cell_type": "markdown",
      "id": "ead1c2b8-fdc6-46c6-82e9-41161f84d93a",
      "metadata": {
        "id": "ead1c2b8-fdc6-46c6-82e9-41161f84d93a"
      },
      "source": [
        "#### 1.1 Determine which product has been ordered the most\n",
        "Write a function called `get_ordered_most(conn)` to find the product that has been ordered the most in terms of quantity. The result should return the product name, product_id, and the total quantity sold in a dictionary. Example output expected: `{'product_name':'Coca-Cola', 'product_id': 1, 'nr_orders':1000}`\n"
      ]
    },
    {
      "cell_type": "code",
      "execution_count": 24,
      "id": "4e57fb5f-9e54-46f1-aefd-13e4d650eb7e",
      "metadata": {
        "colab": {
          "base_uri": "https://localhost:8080/",
          "height": 332
        },
        "id": "4e57fb5f-9e54-46f1-aefd-13e4d650eb7e",
        "outputId": "24ce618c-335e-4d3a-a273-94a54c217e3e"
      },
      "outputs": [
        {
          "output_type": "error",
          "ename": "OperationalError",
          "evalue": "no such table: bike_stores.products",
          "traceback": [
            "\u001b[0;31m---------------------------------------------------------------------------\u001b[0m",
            "\u001b[0;31mOperationalError\u001b[0m                          Traceback (most recent call last)",
            "\u001b[0;32m<ipython-input-24-fdb8b2cf0b88>\u001b[0m in \u001b[0;36m<cell line: 26>\u001b[0;34m()\u001b[0m\n\u001b[1;32m     24\u001b[0m \u001b[0;34m\u001b[0m\u001b[0m\n\u001b[1;32m     25\u001b[0m \u001b[0mconn\u001b[0m \u001b[0;34m=\u001b[0m \u001b[0msqlite3\u001b[0m\u001b[0;34m.\u001b[0m\u001b[0mconnect\u001b[0m\u001b[0;34m(\u001b[0m\u001b[0;34m\"bike_store.db\"\u001b[0m\u001b[0;34m)\u001b[0m\u001b[0;34m\u001b[0m\u001b[0;34m\u001b[0m\u001b[0m\n\u001b[0;32m---> 26\u001b[0;31m \u001b[0mresult\u001b[0m \u001b[0;34m=\u001b[0m \u001b[0mget_ordered_most\u001b[0m\u001b[0;34m(\u001b[0m\u001b[0mconn\u001b[0m\u001b[0;34m)\u001b[0m\u001b[0;34m\u001b[0m\u001b[0;34m\u001b[0m\u001b[0m\n\u001b[0m\u001b[1;32m     27\u001b[0m \u001b[0mprint\u001b[0m\u001b[0;34m(\u001b[0m\u001b[0mresult\u001b[0m\u001b[0;34m)\u001b[0m\u001b[0;34m\u001b[0m\u001b[0;34m\u001b[0m\u001b[0m\n\u001b[1;32m     28\u001b[0m \u001b[0;34m\u001b[0m\u001b[0m\n",
            "\u001b[0;32m<ipython-input-24-fdb8b2cf0b88>\u001b[0m in \u001b[0;36mget_ordered_most\u001b[0;34m(conn)\u001b[0m\n\u001b[1;32m     12\u001b[0m     \"\"\"\n\u001b[1;32m     13\u001b[0m     \u001b[0mcursor\u001b[0m \u001b[0;34m=\u001b[0m \u001b[0mconn\u001b[0m\u001b[0;34m.\u001b[0m\u001b[0mcursor\u001b[0m\u001b[0;34m(\u001b[0m\u001b[0;34m)\u001b[0m\u001b[0;34m\u001b[0m\u001b[0;34m\u001b[0m\u001b[0m\n\u001b[0;32m---> 14\u001b[0;31m     \u001b[0mcursor\u001b[0m\u001b[0;34m.\u001b[0m\u001b[0mexecute\u001b[0m\u001b[0;34m(\u001b[0m\u001b[0mQuery\u001b[0m\u001b[0;34m)\u001b[0m\u001b[0;34m\u001b[0m\u001b[0;34m\u001b[0m\u001b[0m\n\u001b[0m\u001b[1;32m     15\u001b[0m     \u001b[0moutput\u001b[0m \u001b[0;34m=\u001b[0m \u001b[0mcursor\u001b[0m\u001b[0;34m.\u001b[0m\u001b[0mfetchone\u001b[0m\u001b[0;34m(\u001b[0m\u001b[0;34m)\u001b[0m\u001b[0;34m\u001b[0m\u001b[0;34m\u001b[0m\u001b[0m\n\u001b[1;32m     16\u001b[0m \u001b[0;34m\u001b[0m\u001b[0m\n",
            "\u001b[0;31mOperationalError\u001b[0m: no such table: bike_stores.products"
          ]
        }
      ],
      "source": [
        "### START FUNCTION\n",
        "def get_ordered_most(conn):\n",
        "\n",
        "    ### Insert your code here\n",
        "\n",
        "    Query = \"\"\"\n",
        "    SELECT product_id, product_name, SUM(quantity) AS total_quantity\n",
        "    FROM bike_stores.products\n",
        "    GROUP By product_id, product_name\n",
        "    ORDER by total_quantity DESC\n",
        "    LIMIT 1;\n",
        "    \"\"\"\n",
        "    cursor = conn.cursor()\n",
        "    cursor.execute(Query)\n",
        "    output = cursor.fetchone()\n",
        "\n",
        "    if output:\n",
        "        product_id, product_name, total_quantity = output\n",
        "        #print(result) # Removed unnecessary print statement\n",
        "        return {'product_name': product_name, 'product_id': product_id, 'nr_orders': total_quantity}\n",
        "    else:\n",
        "        print(\"No data found.\")\n",
        "        return None # Return None if no data is found\n",
        "\n",
        "conn = sqlite3.connect(\"bike_store.db\")\n",
        "result = get_ordered_most(conn)\n",
        "print(result)\n",
        "\n",
        "conn.close()\n",
        "### END FUNCTION"
      ]
    },
    {
      "cell_type": "markdown",
      "id": "394dd26e-3d01-4b33-b37f-6fd89e588ce0",
      "metadata": {
        "id": "394dd26e-3d01-4b33-b37f-6fd89e588ce0"
      },
      "source": [
        "#### 1.2 Identify which store has the widest *range* of products in stock\n",
        "Write a function called `find_store_with_most_unique_prod(conn)` to find out which store carries the most unique products (different `product_id`) in its inventory (stock). The query should return the store name and the number of different products available in a dictionary, structured as follows: {'nr_items': 100, 'store_name': 'The Suparette'} . Remember to only consider products that are in stock at each of the stores.\n",
        "\n"
      ]
    },
    {
      "cell_type": "code",
      "execution_count": 25,
      "id": "4aacc1ec-0ff1-4231-a1c7-9f277b52bfd6",
      "metadata": {
        "colab": {
          "base_uri": "https://localhost:8080/",
          "height": 332
        },
        "id": "4aacc1ec-0ff1-4231-a1c7-9f277b52bfd6",
        "outputId": "9374a97e-f025-4104-e67d-e03f074fbc4f"
      },
      "outputs": [
        {
          "output_type": "error",
          "ename": "OperationalError",
          "evalue": "no such table: bike_stores.products",
          "traceback": [
            "\u001b[0;31m---------------------------------------------------------------------------\u001b[0m",
            "\u001b[0;31mOperationalError\u001b[0m                          Traceback (most recent call last)",
            "\u001b[0;32m<ipython-input-25-68f54476144c>\u001b[0m in \u001b[0;36m<cell line: 25>\u001b[0;34m()\u001b[0m\n\u001b[1;32m     23\u001b[0m \u001b[0;34m\u001b[0m\u001b[0m\n\u001b[1;32m     24\u001b[0m \u001b[0mconn\u001b[0m \u001b[0;34m=\u001b[0m \u001b[0msqlite3\u001b[0m\u001b[0;34m.\u001b[0m\u001b[0mconnect\u001b[0m\u001b[0;34m(\u001b[0m\u001b[0;34m\"bike_store.db\"\u001b[0m\u001b[0;34m)\u001b[0m\u001b[0;34m\u001b[0m\u001b[0;34m\u001b[0m\u001b[0m\n\u001b[0;32m---> 25\u001b[0;31m \u001b[0mresult\u001b[0m \u001b[0;34m=\u001b[0m \u001b[0mget_ordered_most\u001b[0m\u001b[0;34m(\u001b[0m\u001b[0mconn\u001b[0m\u001b[0;34m)\u001b[0m\u001b[0;34m\u001b[0m\u001b[0;34m\u001b[0m\u001b[0m\n\u001b[0m\u001b[1;32m     26\u001b[0m \u001b[0mprint\u001b[0m\u001b[0;34m(\u001b[0m\u001b[0mresult\u001b[0m\u001b[0;34m)\u001b[0m\u001b[0;34m\u001b[0m\u001b[0;34m\u001b[0m\u001b[0m\n\u001b[1;32m     27\u001b[0m \u001b[0;34m\u001b[0m\u001b[0m\n",
            "\u001b[0;32m<ipython-input-24-fdb8b2cf0b88>\u001b[0m in \u001b[0;36mget_ordered_most\u001b[0;34m(conn)\u001b[0m\n\u001b[1;32m     12\u001b[0m     \"\"\"\n\u001b[1;32m     13\u001b[0m     \u001b[0mcursor\u001b[0m \u001b[0;34m=\u001b[0m \u001b[0mconn\u001b[0m\u001b[0;34m.\u001b[0m\u001b[0mcursor\u001b[0m\u001b[0;34m(\u001b[0m\u001b[0;34m)\u001b[0m\u001b[0;34m\u001b[0m\u001b[0;34m\u001b[0m\u001b[0m\n\u001b[0;32m---> 14\u001b[0;31m     \u001b[0mcursor\u001b[0m\u001b[0;34m.\u001b[0m\u001b[0mexecute\u001b[0m\u001b[0;34m(\u001b[0m\u001b[0mQuery\u001b[0m\u001b[0;34m)\u001b[0m\u001b[0;34m\u001b[0m\u001b[0;34m\u001b[0m\u001b[0m\n\u001b[0m\u001b[1;32m     15\u001b[0m     \u001b[0moutput\u001b[0m \u001b[0;34m=\u001b[0m \u001b[0mcursor\u001b[0m\u001b[0;34m.\u001b[0m\u001b[0mfetchone\u001b[0m\u001b[0;34m(\u001b[0m\u001b[0;34m)\u001b[0m\u001b[0;34m\u001b[0m\u001b[0;34m\u001b[0m\u001b[0m\n\u001b[1;32m     16\u001b[0m \u001b[0;34m\u001b[0m\u001b[0m\n",
            "\u001b[0;31mOperationalError\u001b[0m: no such table: bike_stores.products"
          ]
        }
      ],
      "source": [
        "### START FUNCTION\n",
        "def find_store_with_most_unique_prod(conn):\n",
        "### Insert your code here\n",
        "  query = \"\"\"\n",
        "  SELECT stores.store_name, COUNT(DISTINCT stock.product_id) AS nr_items\n",
        "  FROM stores\n",
        "  JOIN stock ON stores.store_id = stock.store_id\n",
        "  WHERE stock.quantity > 0\n",
        "  GROUP BY stores.store\n",
        "  ORDER BY nr_items DESC\n",
        "  LIMIT 1;\n",
        "  \"\"\"\n",
        "  cursor = conn.cursor()\n",
        "  cursor.execute(query)\n",
        "  output = cursor.fetchone()\n",
        "  if output:\n",
        "    store_name, nr_items = output\n",
        "    print(output)\n",
        "    return {'nr_items': nr_items, 'store_name': store_name}\n",
        "  else:\n",
        "    print(\"No data found.\")\n",
        "    return output\n",
        "\n",
        "conn = sqlite3.connect(\"bike_store.db\")\n",
        "result = get_ordered_most(conn)\n",
        "print(result)\n",
        "\n",
        "conn.close()\n",
        "### END FUNCTION"
      ]
    },
    {
      "cell_type": "markdown",
      "id": "d1ec3aca-7754-4aa0-8e80-af4981ce32e0",
      "metadata": {
        "id": "d1ec3aca-7754-4aa0-8e80-af4981ce32e0"
      },
      "source": [
        "#### 1.3 Determine how many unique users ordered a specific product\n",
        "Create a function `find_unique_customers_for_prod(conn)` to find out how many unique customers ordered a specific product - the one with product_id = 6. Return the output (number of customers and product_id) in a dictionary with the following structure: `{'nr_unique_customers': 200, 'product_id': 1000}`\n"
      ]
    },
    {
      "cell_type": "code",
      "execution_count": 27,
      "id": "6f8d6e16-0070-4fe0-9e30-2c82ab7c1a79",
      "metadata": {
        "colab": {
          "base_uri": "https://localhost:8080/",
          "height": 332
        },
        "id": "6f8d6e16-0070-4fe0-9e30-2c82ab7c1a79",
        "outputId": "39b0bbcb-9fba-4d02-a7c4-58e2b058954d"
      },
      "outputs": [
        {
          "output_type": "error",
          "ename": "OperationalError",
          "evalue": "no such table: bike_stores.products",
          "traceback": [
            "\u001b[0;31m---------------------------------------------------------------------------\u001b[0m",
            "\u001b[0;31mOperationalError\u001b[0m                          Traceback (most recent call last)",
            "\u001b[0;32m<ipython-input-27-fba9d10bc16f>\u001b[0m in \u001b[0;36m<cell line: 23>\u001b[0;34m()\u001b[0m\n\u001b[1;32m     21\u001b[0m \u001b[0;34m\u001b[0m\u001b[0m\n\u001b[1;32m     22\u001b[0m \u001b[0mconn\u001b[0m \u001b[0;34m=\u001b[0m \u001b[0msqlite3\u001b[0m\u001b[0;34m.\u001b[0m\u001b[0mconnect\u001b[0m\u001b[0;34m(\u001b[0m\u001b[0;34m\"bike_store.db\"\u001b[0m\u001b[0;34m)\u001b[0m\u001b[0;34m\u001b[0m\u001b[0;34m\u001b[0m\u001b[0m\n\u001b[0;32m---> 23\u001b[0;31m \u001b[0moutput\u001b[0m \u001b[0;34m=\u001b[0m \u001b[0mget_ordered_most\u001b[0m\u001b[0;34m(\u001b[0m\u001b[0mconn\u001b[0m\u001b[0;34m)\u001b[0m\u001b[0;34m\u001b[0m\u001b[0;34m\u001b[0m\u001b[0m\n\u001b[0m\u001b[1;32m     24\u001b[0m \u001b[0mprint\u001b[0m\u001b[0;34m(\u001b[0m\u001b[0moutput\u001b[0m\u001b[0;34m)\u001b[0m\u001b[0;34m\u001b[0m\u001b[0;34m\u001b[0m\u001b[0m\n\u001b[1;32m     25\u001b[0m \u001b[0;34m\u001b[0m\u001b[0m\n",
            "\u001b[0;32m<ipython-input-24-fdb8b2cf0b88>\u001b[0m in \u001b[0;36mget_ordered_most\u001b[0;34m(conn)\u001b[0m\n\u001b[1;32m     12\u001b[0m     \"\"\"\n\u001b[1;32m     13\u001b[0m     \u001b[0mcursor\u001b[0m \u001b[0;34m=\u001b[0m \u001b[0mconn\u001b[0m\u001b[0;34m.\u001b[0m\u001b[0mcursor\u001b[0m\u001b[0;34m(\u001b[0m\u001b[0;34m)\u001b[0m\u001b[0;34m\u001b[0m\u001b[0;34m\u001b[0m\u001b[0m\n\u001b[0;32m---> 14\u001b[0;31m     \u001b[0mcursor\u001b[0m\u001b[0;34m.\u001b[0m\u001b[0mexecute\u001b[0m\u001b[0;34m(\u001b[0m\u001b[0mQuery\u001b[0m\u001b[0;34m)\u001b[0m\u001b[0;34m\u001b[0m\u001b[0;34m\u001b[0m\u001b[0m\n\u001b[0m\u001b[1;32m     15\u001b[0m     \u001b[0moutput\u001b[0m \u001b[0;34m=\u001b[0m \u001b[0mcursor\u001b[0m\u001b[0;34m.\u001b[0m\u001b[0mfetchone\u001b[0m\u001b[0;34m(\u001b[0m\u001b[0;34m)\u001b[0m\u001b[0;34m\u001b[0m\u001b[0;34m\u001b[0m\u001b[0m\n\u001b[1;32m     16\u001b[0m \u001b[0;34m\u001b[0m\u001b[0m\n",
            "\u001b[0;31mOperationalError\u001b[0m: no such table: bike_stores.products"
          ]
        }
      ],
      "source": [
        "### START FUNCTION\n",
        "def find_unique_customers_for_prod(conn):\n",
        "\n",
        "### Insert your code here\n",
        "  query = \"\"\"\n",
        "  SELECT COUNT(DISTINCT orders.customer_id) AS nr_unique_customers, products.product_id\n",
        "  FROM orders\n",
        "  JOIN order\n",
        "  WHERE order.product_id = 6\n",
        "  GROUP BY products.product_id;\n",
        "  \"\"\"\n",
        "  cursor = conn.cursor()\n",
        "  cursor.execute(query)\n",
        "  output = cursor.fetchone()\n",
        "  if output:\n",
        "    nr_unique_customers, product_id = output\n",
        "    print(output)\n",
        "    return {'nr_unique_customers': nr_unique_customers, 'product_id': product_id}\n",
        "  else:\n",
        "    print(\"No data found.\")\n",
        "\n",
        "conn = sqlite3.connect(\"bike_store.db\")\n",
        "output = get_ordered_most(conn)\n",
        "print(output)\n",
        "\n",
        "conn.close()\n",
        "### END FUNCTION"
      ]
    },
    {
      "cell_type": "markdown",
      "source": [],
      "metadata": {
        "id": "-QobQMSZRIvv"
      },
      "id": "-QobQMSZRIvv"
    },
    {
      "cell_type": "markdown",
      "id": "da805f80-ba58-4fb1-9a62-e8e506ddb74a",
      "metadata": {
        "id": "da805f80-ba58-4fb1-9a62-e8e506ddb74a"
      },
      "source": [
        "#### 1.4 Identify the state where most orders were shipped to.\n",
        "Create a function `find_state_with_most_orders(conn)` to identify the state where most orders were shipped to. Assume that the orders are shipped to the state provided in the customers' address. Return the number of orders and the state as a dictionary. Example output: `{'max_orders': 10, 'state': 'CO'}`\n"
      ]
    },
    {
      "cell_type": "code",
      "execution_count": null,
      "id": "78d29571-35b2-4e56-b07a-2725ed371e42",
      "metadata": {
        "id": "78d29571-35b2-4e56-b07a-2725ed371e42"
      },
      "outputs": [],
      "source": [
        "### START FUNCTION\n",
        "def find_state_with_most_orders(conn):\n",
        "\n",
        "### Insert your code here\n",
        "   return output\n",
        "\n",
        "### END FUNCTION"
      ]
    },
    {
      "cell_type": "markdown",
      "id": "e1e98564-4e83-419e-b210-f2fa1dad0987",
      "metadata": {
        "id": "e1e98564-4e83-419e-b210-f2fa1dad0987"
      },
      "source": [
        "#### 1.5 Find the brand with the highest quantity in inventory (stock) across all stores\n",
        "Create a function `find_highest_stock_and_brand(conn):`to find the brand with the highest number of products in stock across the stores. `conn` refers to the database connection we created earlier. Return the **brand** and the **number of items** in stock for that brand as a dictionary. Example output: `{'max_stock': 1000, 'brand_name': 'Coca-Cola'}`"
      ]
    },
    {
      "cell_type": "code",
      "execution_count": null,
      "id": "f5ff9cc7",
      "metadata": {
        "id": "f5ff9cc7"
      },
      "outputs": [],
      "source": [
        "### START FUNCTION\n",
        "def find_highest_stock_and_brand(conn):\n",
        "\n",
        "### Insert your code here\n",
        "   return output\n",
        "### END FUNCTION"
      ]
    },
    {
      "cell_type": "markdown",
      "id": "3ef32b40-837a-49fd-8653-f954afb0bd87",
      "metadata": {
        "id": "3ef32b40-837a-49fd-8653-f954afb0bd87"
      },
      "source": [
        "### Part 2: Database Population and Data Validation\n",
        "#### 2.1 Database Population\n",
        "You are provided with a file named [`books_data.json`](https://github.com/Explore-AI/Public-Data/blob/master/Data/books_data.json) which contains unstructured data from an online bookstore. Your task is to explore this file, structure, and validate the data as needed to perform the tasks detailed below.\n",
        "\n"
      ]
    },
    {
      "cell_type": "markdown",
      "id": "ad55e9fd-3709-43ad-bb5a-8d2841625b8f",
      "metadata": {
        "id": "ad55e9fd-3709-43ad-bb5a-8d2841625b8f"
      },
      "source": [
        "#### 2.1.1 Below is a Python script that creates an SQLite database named books.db with the following tables and the appropriate primary and foreign keys to maintain relationships between the tables\n",
        "\n",
        "- `Categories`: Stores the category name of each book\n",
        "- `Books`: Stores the title, price, rating, category ID, and description of each book.\n",
        "- `Stock`: Stores the stock status (in stock or not) and the stock count for each book.\n",
        "- `ProductIDs`: Stores the unique product ID (UPC) for each book.\n"
      ]
    },
    {
      "cell_type": "code",
      "execution_count": 32,
      "id": "d6e12e74-0dc1-4048-8b00-e01fe9dffaaf",
      "metadata": {
        "id": "d6e12e74-0dc1-4048-8b00-e01fe9dffaaf"
      },
      "outputs": [],
      "source": [
        "import os\n",
        "import json\n",
        "import sqlite3\n",
        "\n",
        "\n",
        "def load_books_data():\n",
        "    if not os.path.exists('books_data.json'):\n",
        "        raise FileNotFoundError('books_data.json not found')\n",
        "\n",
        "\n",
        "    with open('books_data.json', 'r') as f:\n",
        "        books_data = json.load(f)\n",
        "\n",
        "\n",
        "    return books_data\n",
        "\n",
        "\n",
        "def create_db(conn, cursor):\n",
        "    cursor.execute('''\n",
        "    CREATE TABLE Categories (\n",
        "        category_id INTEGER PRIMARY KEY AUTOINCREMENT,\n",
        "        category_name TEXT UNIQUE\n",
        "    )\n",
        "    ''')\n",
        "\n",
        "\n",
        "    cursor.execute('''\n",
        "    CREATE TABLE Books (\n",
        "        book_id INTEGER PRIMARY KEY AUTOINCREMENT,\n",
        "        title TEXT,\n",
        "        price REAL,\n",
        "        rating INTEGER,\n",
        "        category_id INTEGER,\n",
        "        description TEXT,\n",
        "        FOREIGN KEY (category_id) REFERENCES Categories(category_id)\n",
        "    )\n",
        "    ''')\n",
        "\n",
        "\n",
        "    cursor.execute('''\n",
        "    CREATE TABLE Stock (\n",
        "        book_id INTEGER,\n",
        "        in_stock BOOLEAN,\n",
        "        stock_count INTEGER,\n",
        "        FOREIGN KEY (book_id) REFERENCES Books(book_id)\n",
        "    )\n",
        "    ''')\n",
        "\n",
        "\n",
        "    cursor.execute('''\n",
        "    CREATE TABLE ProductIDs (\n",
        "        book_id INTEGER,\n",
        "        product_id TEXT,\n",
        "        FOREIGN KEY (book_id) REFERENCES Books(book_id)\n",
        "    )\n",
        "    ''')\n",
        "\n",
        "    conn.commit()\n",
        "\n",
        "    return conn, cursor"
      ]
    },
    {
      "cell_type": "markdown",
      "id": "f882b79c-ba7d-460b-9311-293ad722f278",
      "metadata": {
        "id": "f882b79c-ba7d-460b-9311-293ad722f278"
      },
      "source": [
        "#### 2.1.2 Below is a Python script to structure and insert the unstructured data from `books_data.json` into `books.db`\n",
        "- Data are be written to the most suitable table.\n",
        "- Data are linked via suitable foreign keys."
      ]
    },
    {
      "cell_type": "code",
      "source": [
        "from google.colab import files\n",
        "uploaded = files.upload()"
      ],
      "metadata": {
        "colab": {
          "base_uri": "https://localhost:8080/",
          "height": 73
        },
        "id": "_Asyu5NcaeYn",
        "outputId": "595a1b06-7bc6-4da8-943a-d4ae865f3939"
      },
      "id": "_Asyu5NcaeYn",
      "execution_count": 35,
      "outputs": [
        {
          "output_type": "display_data",
          "data": {
            "text/plain": [
              "<IPython.core.display.HTML object>"
            ],
            "text/html": [
              "\n",
              "     <input type=\"file\" id=\"files-ae32a95a-e98c-42ef-908f-871c1485745b\" name=\"files[]\" multiple disabled\n",
              "        style=\"border:none\" />\n",
              "     <output id=\"result-ae32a95a-e98c-42ef-908f-871c1485745b\">\n",
              "      Upload widget is only available when the cell has been executed in the\n",
              "      current browser session. Please rerun this cell to enable.\n",
              "      </output>\n",
              "      <script>// Copyright 2017 Google LLC\n",
              "//\n",
              "// Licensed under the Apache License, Version 2.0 (the \"License\");\n",
              "// you may not use this file except in compliance with the License.\n",
              "// You may obtain a copy of the License at\n",
              "//\n",
              "//      http://www.apache.org/licenses/LICENSE-2.0\n",
              "//\n",
              "// Unless required by applicable law or agreed to in writing, software\n",
              "// distributed under the License is distributed on an \"AS IS\" BASIS,\n",
              "// WITHOUT WARRANTIES OR CONDITIONS OF ANY KIND, either express or implied.\n",
              "// See the License for the specific language governing permissions and\n",
              "// limitations under the License.\n",
              "\n",
              "/**\n",
              " * @fileoverview Helpers for google.colab Python module.\n",
              " */\n",
              "(function(scope) {\n",
              "function span(text, styleAttributes = {}) {\n",
              "  const element = document.createElement('span');\n",
              "  element.textContent = text;\n",
              "  for (const key of Object.keys(styleAttributes)) {\n",
              "    element.style[key] = styleAttributes[key];\n",
              "  }\n",
              "  return element;\n",
              "}\n",
              "\n",
              "// Max number of bytes which will be uploaded at a time.\n",
              "const MAX_PAYLOAD_SIZE = 100 * 1024;\n",
              "\n",
              "function _uploadFiles(inputId, outputId) {\n",
              "  const steps = uploadFilesStep(inputId, outputId);\n",
              "  const outputElement = document.getElementById(outputId);\n",
              "  // Cache steps on the outputElement to make it available for the next call\n",
              "  // to uploadFilesContinue from Python.\n",
              "  outputElement.steps = steps;\n",
              "\n",
              "  return _uploadFilesContinue(outputId);\n",
              "}\n",
              "\n",
              "// This is roughly an async generator (not supported in the browser yet),\n",
              "// where there are multiple asynchronous steps and the Python side is going\n",
              "// to poll for completion of each step.\n",
              "// This uses a Promise to block the python side on completion of each step,\n",
              "// then passes the result of the previous step as the input to the next step.\n",
              "function _uploadFilesContinue(outputId) {\n",
              "  const outputElement = document.getElementById(outputId);\n",
              "  const steps = outputElement.steps;\n",
              "\n",
              "  const next = steps.next(outputElement.lastPromiseValue);\n",
              "  return Promise.resolve(next.value.promise).then((value) => {\n",
              "    // Cache the last promise value to make it available to the next\n",
              "    // step of the generator.\n",
              "    outputElement.lastPromiseValue = value;\n",
              "    return next.value.response;\n",
              "  });\n",
              "}\n",
              "\n",
              "/**\n",
              " * Generator function which is called between each async step of the upload\n",
              " * process.\n",
              " * @param {string} inputId Element ID of the input file picker element.\n",
              " * @param {string} outputId Element ID of the output display.\n",
              " * @return {!Iterable<!Object>} Iterable of next steps.\n",
              " */\n",
              "function* uploadFilesStep(inputId, outputId) {\n",
              "  const inputElement = document.getElementById(inputId);\n",
              "  inputElement.disabled = false;\n",
              "\n",
              "  const outputElement = document.getElementById(outputId);\n",
              "  outputElement.innerHTML = '';\n",
              "\n",
              "  const pickedPromise = new Promise((resolve) => {\n",
              "    inputElement.addEventListener('change', (e) => {\n",
              "      resolve(e.target.files);\n",
              "    });\n",
              "  });\n",
              "\n",
              "  const cancel = document.createElement('button');\n",
              "  inputElement.parentElement.appendChild(cancel);\n",
              "  cancel.textContent = 'Cancel upload';\n",
              "  const cancelPromise = new Promise((resolve) => {\n",
              "    cancel.onclick = () => {\n",
              "      resolve(null);\n",
              "    };\n",
              "  });\n",
              "\n",
              "  // Wait for the user to pick the files.\n",
              "  const files = yield {\n",
              "    promise: Promise.race([pickedPromise, cancelPromise]),\n",
              "    response: {\n",
              "      action: 'starting',\n",
              "    }\n",
              "  };\n",
              "\n",
              "  cancel.remove();\n",
              "\n",
              "  // Disable the input element since further picks are not allowed.\n",
              "  inputElement.disabled = true;\n",
              "\n",
              "  if (!files) {\n",
              "    return {\n",
              "      response: {\n",
              "        action: 'complete',\n",
              "      }\n",
              "    };\n",
              "  }\n",
              "\n",
              "  for (const file of files) {\n",
              "    const li = document.createElement('li');\n",
              "    li.append(span(file.name, {fontWeight: 'bold'}));\n",
              "    li.append(span(\n",
              "        `(${file.type || 'n/a'}) - ${file.size} bytes, ` +\n",
              "        `last modified: ${\n",
              "            file.lastModifiedDate ? file.lastModifiedDate.toLocaleDateString() :\n",
              "                                    'n/a'} - `));\n",
              "    const percent = span('0% done');\n",
              "    li.appendChild(percent);\n",
              "\n",
              "    outputElement.appendChild(li);\n",
              "\n",
              "    const fileDataPromise = new Promise((resolve) => {\n",
              "      const reader = new FileReader();\n",
              "      reader.onload = (e) => {\n",
              "        resolve(e.target.result);\n",
              "      };\n",
              "      reader.readAsArrayBuffer(file);\n",
              "    });\n",
              "    // Wait for the data to be ready.\n",
              "    let fileData = yield {\n",
              "      promise: fileDataPromise,\n",
              "      response: {\n",
              "        action: 'continue',\n",
              "      }\n",
              "    };\n",
              "\n",
              "    // Use a chunked sending to avoid message size limits. See b/62115660.\n",
              "    let position = 0;\n",
              "    do {\n",
              "      const length = Math.min(fileData.byteLength - position, MAX_PAYLOAD_SIZE);\n",
              "      const chunk = new Uint8Array(fileData, position, length);\n",
              "      position += length;\n",
              "\n",
              "      const base64 = btoa(String.fromCharCode.apply(null, chunk));\n",
              "      yield {\n",
              "        response: {\n",
              "          action: 'append',\n",
              "          file: file.name,\n",
              "          data: base64,\n",
              "        },\n",
              "      };\n",
              "\n",
              "      let percentDone = fileData.byteLength === 0 ?\n",
              "          100 :\n",
              "          Math.round((position / fileData.byteLength) * 100);\n",
              "      percent.textContent = `${percentDone}% done`;\n",
              "\n",
              "    } while (position < fileData.byteLength);\n",
              "  }\n",
              "\n",
              "  // All done.\n",
              "  yield {\n",
              "    response: {\n",
              "      action: 'complete',\n",
              "    }\n",
              "  };\n",
              "}\n",
              "\n",
              "scope.google = scope.google || {};\n",
              "scope.google.colab = scope.google.colab || {};\n",
              "scope.google.colab._files = {\n",
              "  _uploadFiles,\n",
              "  _uploadFilesContinue,\n",
              "};\n",
              "})(self);\n",
              "</script> "
            ]
          },
          "metadata": {}
        },
        {
          "output_type": "stream",
          "name": "stdout",
          "text": [
            "Saving books_data.json to books_data.json\n"
          ]
        }
      ]
    },
    {
      "cell_type": "code",
      "source": [
        "df = pd.read_json('books_data.json')\n",
        "df.head()"
      ],
      "metadata": {
        "colab": {
          "base_uri": "https://localhost:8080/",
          "height": 206
        },
        "id": "pDCYV8aQbGeO",
        "outputId": "9c44a4cb-d4eb-4aa8-b3d3-a331bf37a2f6"
      },
      "id": "pDCYV8aQbGeO",
      "execution_count": 36,
      "outputs": [
        {
          "output_type": "execute_result",
          "data": {
            "text/plain": [
              "                                   title  price  rating            category  \\\n",
              "0                   A Light in the Attic  51.77       3              Poetry   \n",
              "1                     Tipping the Velvet  53.74       1  Historical Fiction   \n",
              "2                             Soumission  50.10       1             Fiction   \n",
              "3                          Sharp Objects  47.82       4             Mystery   \n",
              "4  Sapiens: A Brief History of Humankind  54.23       5             History   \n",
              "\n",
              "         product_id  in_stock  stock_count  \\\n",
              "0  a897fe39b1053632      True           22   \n",
              "1  90fa61229261140a      True           20   \n",
              "2  6957f44c3847a760      True           20   \n",
              "3  e00eb4fd7b871a48      True           20   \n",
              "4  4165285e1663650f      True           20   \n",
              "\n",
              "                                         description  \n",
              "0  Its hard to imagine a world without A Light in...  \n",
              "1  Erotic and absorbing...Written with starling p...  \n",
              "2  Dans une France assez proche de la ntre, un ho...  \n",
              "3  WICKED above her hipbone, GIRL across her hear...  \n",
              "4  From a renowned historian comes a groundbreaki...  "
            ],
            "text/html": [
              "\n",
              "  <div id=\"df-d9195ff3-7f08-4ed5-b661-a3b74c183a7d\" class=\"colab-df-container\">\n",
              "    <div>\n",
              "<style scoped>\n",
              "    .dataframe tbody tr th:only-of-type {\n",
              "        vertical-align: middle;\n",
              "    }\n",
              "\n",
              "    .dataframe tbody tr th {\n",
              "        vertical-align: top;\n",
              "    }\n",
              "\n",
              "    .dataframe thead th {\n",
              "        text-align: right;\n",
              "    }\n",
              "</style>\n",
              "<table border=\"1\" class=\"dataframe\">\n",
              "  <thead>\n",
              "    <tr style=\"text-align: right;\">\n",
              "      <th></th>\n",
              "      <th>title</th>\n",
              "      <th>price</th>\n",
              "      <th>rating</th>\n",
              "      <th>category</th>\n",
              "      <th>product_id</th>\n",
              "      <th>in_stock</th>\n",
              "      <th>stock_count</th>\n",
              "      <th>description</th>\n",
              "    </tr>\n",
              "  </thead>\n",
              "  <tbody>\n",
              "    <tr>\n",
              "      <th>0</th>\n",
              "      <td>A Light in the Attic</td>\n",
              "      <td>51.77</td>\n",
              "      <td>3</td>\n",
              "      <td>Poetry</td>\n",
              "      <td>a897fe39b1053632</td>\n",
              "      <td>True</td>\n",
              "      <td>22</td>\n",
              "      <td>Its hard to imagine a world without A Light in...</td>\n",
              "    </tr>\n",
              "    <tr>\n",
              "      <th>1</th>\n",
              "      <td>Tipping the Velvet</td>\n",
              "      <td>53.74</td>\n",
              "      <td>1</td>\n",
              "      <td>Historical Fiction</td>\n",
              "      <td>90fa61229261140a</td>\n",
              "      <td>True</td>\n",
              "      <td>20</td>\n",
              "      <td>Erotic and absorbing...Written with starling p...</td>\n",
              "    </tr>\n",
              "    <tr>\n",
              "      <th>2</th>\n",
              "      <td>Soumission</td>\n",
              "      <td>50.10</td>\n",
              "      <td>1</td>\n",
              "      <td>Fiction</td>\n",
              "      <td>6957f44c3847a760</td>\n",
              "      <td>True</td>\n",
              "      <td>20</td>\n",
              "      <td>Dans une France assez proche de la ntre, un ho...</td>\n",
              "    </tr>\n",
              "    <tr>\n",
              "      <th>3</th>\n",
              "      <td>Sharp Objects</td>\n",
              "      <td>47.82</td>\n",
              "      <td>4</td>\n",
              "      <td>Mystery</td>\n",
              "      <td>e00eb4fd7b871a48</td>\n",
              "      <td>True</td>\n",
              "      <td>20</td>\n",
              "      <td>WICKED above her hipbone, GIRL across her hear...</td>\n",
              "    </tr>\n",
              "    <tr>\n",
              "      <th>4</th>\n",
              "      <td>Sapiens: A Brief History of Humankind</td>\n",
              "      <td>54.23</td>\n",
              "      <td>5</td>\n",
              "      <td>History</td>\n",
              "      <td>4165285e1663650f</td>\n",
              "      <td>True</td>\n",
              "      <td>20</td>\n",
              "      <td>From a renowned historian comes a groundbreaki...</td>\n",
              "    </tr>\n",
              "  </tbody>\n",
              "</table>\n",
              "</div>\n",
              "    <div class=\"colab-df-buttons\">\n",
              "\n",
              "  <div class=\"colab-df-container\">\n",
              "    <button class=\"colab-df-convert\" onclick=\"convertToInteractive('df-d9195ff3-7f08-4ed5-b661-a3b74c183a7d')\"\n",
              "            title=\"Convert this dataframe to an interactive table.\"\n",
              "            style=\"display:none;\">\n",
              "\n",
              "  <svg xmlns=\"http://www.w3.org/2000/svg\" height=\"24px\" viewBox=\"0 -960 960 960\">\n",
              "    <path d=\"M120-120v-720h720v720H120Zm60-500h600v-160H180v160Zm220 220h160v-160H400v160Zm0 220h160v-160H400v160ZM180-400h160v-160H180v160Zm440 0h160v-160H620v160ZM180-180h160v-160H180v160Zm440 0h160v-160H620v160Z\"/>\n",
              "  </svg>\n",
              "    </button>\n",
              "\n",
              "  <style>\n",
              "    .colab-df-container {\n",
              "      display:flex;\n",
              "      gap: 12px;\n",
              "    }\n",
              "\n",
              "    .colab-df-convert {\n",
              "      background-color: #E8F0FE;\n",
              "      border: none;\n",
              "      border-radius: 50%;\n",
              "      cursor: pointer;\n",
              "      display: none;\n",
              "      fill: #1967D2;\n",
              "      height: 32px;\n",
              "      padding: 0 0 0 0;\n",
              "      width: 32px;\n",
              "    }\n",
              "\n",
              "    .colab-df-convert:hover {\n",
              "      background-color: #E2EBFA;\n",
              "      box-shadow: 0px 1px 2px rgba(60, 64, 67, 0.3), 0px 1px 3px 1px rgba(60, 64, 67, 0.15);\n",
              "      fill: #174EA6;\n",
              "    }\n",
              "\n",
              "    .colab-df-buttons div {\n",
              "      margin-bottom: 4px;\n",
              "    }\n",
              "\n",
              "    [theme=dark] .colab-df-convert {\n",
              "      background-color: #3B4455;\n",
              "      fill: #D2E3FC;\n",
              "    }\n",
              "\n",
              "    [theme=dark] .colab-df-convert:hover {\n",
              "      background-color: #434B5C;\n",
              "      box-shadow: 0px 1px 3px 1px rgba(0, 0, 0, 0.15);\n",
              "      filter: drop-shadow(0px 1px 2px rgba(0, 0, 0, 0.3));\n",
              "      fill: #FFFFFF;\n",
              "    }\n",
              "  </style>\n",
              "\n",
              "    <script>\n",
              "      const buttonEl =\n",
              "        document.querySelector('#df-d9195ff3-7f08-4ed5-b661-a3b74c183a7d button.colab-df-convert');\n",
              "      buttonEl.style.display =\n",
              "        google.colab.kernel.accessAllowed ? 'block' : 'none';\n",
              "\n",
              "      async function convertToInteractive(key) {\n",
              "        const element = document.querySelector('#df-d9195ff3-7f08-4ed5-b661-a3b74c183a7d');\n",
              "        const dataTable =\n",
              "          await google.colab.kernel.invokeFunction('convertToInteractive',\n",
              "                                                    [key], {});\n",
              "        if (!dataTable) return;\n",
              "\n",
              "        const docLinkHtml = 'Like what you see? Visit the ' +\n",
              "          '<a target=\"_blank\" href=https://colab.research.google.com/notebooks/data_table.ipynb>data table notebook</a>'\n",
              "          + ' to learn more about interactive tables.';\n",
              "        element.innerHTML = '';\n",
              "        dataTable['output_type'] = 'display_data';\n",
              "        await google.colab.output.renderOutput(dataTable, element);\n",
              "        const docLink = document.createElement('div');\n",
              "        docLink.innerHTML = docLinkHtml;\n",
              "        element.appendChild(docLink);\n",
              "      }\n",
              "    </script>\n",
              "  </div>\n",
              "\n",
              "\n",
              "<div id=\"df-9d8a40cd-6cb1-4ee9-8c45-8894d359b854\">\n",
              "  <button class=\"colab-df-quickchart\" onclick=\"quickchart('df-9d8a40cd-6cb1-4ee9-8c45-8894d359b854')\"\n",
              "            title=\"Suggest charts\"\n",
              "            style=\"display:none;\">\n",
              "\n",
              "<svg xmlns=\"http://www.w3.org/2000/svg\" height=\"24px\"viewBox=\"0 0 24 24\"\n",
              "     width=\"24px\">\n",
              "    <g>\n",
              "        <path d=\"M19 3H5c-1.1 0-2 .9-2 2v14c0 1.1.9 2 2 2h14c1.1 0 2-.9 2-2V5c0-1.1-.9-2-2-2zM9 17H7v-7h2v7zm4 0h-2V7h2v10zm4 0h-2v-4h2v4z\"/>\n",
              "    </g>\n",
              "</svg>\n",
              "  </button>\n",
              "\n",
              "<style>\n",
              "  .colab-df-quickchart {\n",
              "      --bg-color: #E8F0FE;\n",
              "      --fill-color: #1967D2;\n",
              "      --hover-bg-color: #E2EBFA;\n",
              "      --hover-fill-color: #174EA6;\n",
              "      --disabled-fill-color: #AAA;\n",
              "      --disabled-bg-color: #DDD;\n",
              "  }\n",
              "\n",
              "  [theme=dark] .colab-df-quickchart {\n",
              "      --bg-color: #3B4455;\n",
              "      --fill-color: #D2E3FC;\n",
              "      --hover-bg-color: #434B5C;\n",
              "      --hover-fill-color: #FFFFFF;\n",
              "      --disabled-bg-color: #3B4455;\n",
              "      --disabled-fill-color: #666;\n",
              "  }\n",
              "\n",
              "  .colab-df-quickchart {\n",
              "    background-color: var(--bg-color);\n",
              "    border: none;\n",
              "    border-radius: 50%;\n",
              "    cursor: pointer;\n",
              "    display: none;\n",
              "    fill: var(--fill-color);\n",
              "    height: 32px;\n",
              "    padding: 0;\n",
              "    width: 32px;\n",
              "  }\n",
              "\n",
              "  .colab-df-quickchart:hover {\n",
              "    background-color: var(--hover-bg-color);\n",
              "    box-shadow: 0 1px 2px rgba(60, 64, 67, 0.3), 0 1px 3px 1px rgba(60, 64, 67, 0.15);\n",
              "    fill: var(--button-hover-fill-color);\n",
              "  }\n",
              "\n",
              "  .colab-df-quickchart-complete:disabled,\n",
              "  .colab-df-quickchart-complete:disabled:hover {\n",
              "    background-color: var(--disabled-bg-color);\n",
              "    fill: var(--disabled-fill-color);\n",
              "    box-shadow: none;\n",
              "  }\n",
              "\n",
              "  .colab-df-spinner {\n",
              "    border: 2px solid var(--fill-color);\n",
              "    border-color: transparent;\n",
              "    border-bottom-color: var(--fill-color);\n",
              "    animation:\n",
              "      spin 1s steps(1) infinite;\n",
              "  }\n",
              "\n",
              "  @keyframes spin {\n",
              "    0% {\n",
              "      border-color: transparent;\n",
              "      border-bottom-color: var(--fill-color);\n",
              "      border-left-color: var(--fill-color);\n",
              "    }\n",
              "    20% {\n",
              "      border-color: transparent;\n",
              "      border-left-color: var(--fill-color);\n",
              "      border-top-color: var(--fill-color);\n",
              "    }\n",
              "    30% {\n",
              "      border-color: transparent;\n",
              "      border-left-color: var(--fill-color);\n",
              "      border-top-color: var(--fill-color);\n",
              "      border-right-color: var(--fill-color);\n",
              "    }\n",
              "    40% {\n",
              "      border-color: transparent;\n",
              "      border-right-color: var(--fill-color);\n",
              "      border-top-color: var(--fill-color);\n",
              "    }\n",
              "    60% {\n",
              "      border-color: transparent;\n",
              "      border-right-color: var(--fill-color);\n",
              "    }\n",
              "    80% {\n",
              "      border-color: transparent;\n",
              "      border-right-color: var(--fill-color);\n",
              "      border-bottom-color: var(--fill-color);\n",
              "    }\n",
              "    90% {\n",
              "      border-color: transparent;\n",
              "      border-bottom-color: var(--fill-color);\n",
              "    }\n",
              "  }\n",
              "</style>\n",
              "\n",
              "  <script>\n",
              "    async function quickchart(key) {\n",
              "      const quickchartButtonEl =\n",
              "        document.querySelector('#' + key + ' button');\n",
              "      quickchartButtonEl.disabled = true;  // To prevent multiple clicks.\n",
              "      quickchartButtonEl.classList.add('colab-df-spinner');\n",
              "      try {\n",
              "        const charts = await google.colab.kernel.invokeFunction(\n",
              "            'suggestCharts', [key], {});\n",
              "      } catch (error) {\n",
              "        console.error('Error during call to suggestCharts:', error);\n",
              "      }\n",
              "      quickchartButtonEl.classList.remove('colab-df-spinner');\n",
              "      quickchartButtonEl.classList.add('colab-df-quickchart-complete');\n",
              "    }\n",
              "    (() => {\n",
              "      let quickchartButtonEl =\n",
              "        document.querySelector('#df-9d8a40cd-6cb1-4ee9-8c45-8894d359b854 button');\n",
              "      quickchartButtonEl.style.display =\n",
              "        google.colab.kernel.accessAllowed ? 'block' : 'none';\n",
              "    })();\n",
              "  </script>\n",
              "</div>\n",
              "\n",
              "    </div>\n",
              "  </div>\n"
            ],
            "application/vnd.google.colaboratory.intrinsic+json": {
              "type": "dataframe",
              "variable_name": "df",
              "summary": "{\n  \"name\": \"df\",\n  \"rows\": 1000,\n  \"fields\": [\n    {\n      \"column\": \"title\",\n      \"properties\": {\n        \"dtype\": \"string\",\n        \"num_unique_values\": 999,\n        \"samples\": [\n          \"The Grownup\",\n          \"Persepolis: The Story of a Childhood (Persepolis #1-2)\",\n          \"Ayumis Violin\"\n        ],\n        \"semantic_type\": \"\",\n        \"description\": \"\"\n      }\n    },\n    {\n      \"column\": \"price\",\n      \"properties\": {\n        \"dtype\": \"number\",\n        \"std\": 14.446689669952772,\n        \"min\": 10.0,\n        \"max\": 59.99,\n        \"num_unique_values\": 903,\n        \"samples\": [\n          19.73,\n          55.65,\n          46.31\n        ],\n        \"semantic_type\": \"\",\n        \"description\": \"\"\n      }\n    },\n    {\n      \"column\": \"rating\",\n      \"properties\": {\n        \"dtype\": \"number\",\n        \"std\": 1,\n        \"min\": 1,\n        \"max\": 5,\n        \"num_unique_values\": 5,\n        \"samples\": [\n          1,\n          2,\n          4\n        ],\n        \"semantic_type\": \"\",\n        \"description\": \"\"\n      }\n    },\n    {\n      \"column\": \"category\",\n      \"properties\": {\n        \"dtype\": \"category\",\n        \"num_unique_values\": 50,\n        \"samples\": [\n          \"Thriller\",\n          \"Humor\",\n          \"Christian\"\n        ],\n        \"semantic_type\": \"\",\n        \"description\": \"\"\n      }\n    },\n    {\n      \"column\": \"product_id\",\n      \"properties\": {\n        \"dtype\": \"string\",\n        \"num_unique_values\": 1000,\n        \"samples\": [\n          \"924438fc6cbec836\",\n          \"4266f48a0aa1c37d\",\n          \"70c7c3ca7f9b2728\"\n        ],\n        \"semantic_type\": \"\",\n        \"description\": \"\"\n      }\n    },\n    {\n      \"column\": \"in_stock\",\n      \"properties\": {\n        \"dtype\": \"boolean\",\n        \"num_unique_values\": 1,\n        \"samples\": [\n          true\n        ],\n        \"semantic_type\": \"\",\n        \"description\": \"\"\n      }\n    },\n    {\n      \"column\": \"stock_count\",\n      \"properties\": {\n        \"dtype\": \"number\",\n        \"std\": 5,\n        \"min\": 1,\n        \"max\": 22,\n        \"num_unique_values\": 21,\n        \"samples\": [\n          22\n        ],\n        \"semantic_type\": \"\",\n        \"description\": \"\"\n      }\n    },\n    {\n      \"column\": \"description\",\n      \"properties\": {\n        \"dtype\": \"string\",\n        \"num_unique_values\": 998,\n        \"samples\": [\n          \"A canny young woman is struggling to survive by perpetrating various levels of mostly harmless fraud. On a rainy April morning, she is reading auras at Spiritual Palms when Susan Burke walks in. A keen observer of human behavior, our unnamed narrator immediately diagnoses beautiful, rich Susan as an unhappy woman eager to give her lovely life a drama injection. However, wh A canny young woman is struggling to survive by perpetrating various levels of mostly harmless fraud. On a rainy April morning, she is reading auras at Spiritual Palms when Susan Burke walks in. A keen observer of human behavior, our unnamed narrator immediately diagnoses beautiful, rich Susan as an unhappy woman eager to give her lovely life a drama injection. However, when the psychic visits the eerie Victorian home that has been the source of Susans terror and grief, she realizes she may not have to pretend to believe in ghosts anymore. Miles, Susans teenage stepson, doesnt help matters with his disturbing manner and grisly imagination. The three are soon locked in a chilling battle to discover where the evil truly lurks and what, if anything, can be done to escape it. \"\n        ],\n        \"semantic_type\": \"\",\n        \"description\": \"\"\n      }\n    }\n  ]\n}"
            }
          },
          "metadata": {},
          "execution_count": 36
        }
      ]
    },
    {
      "cell_type": "code",
      "execution_count": 37,
      "id": "5a42c882-aa46-4c9f-8cc8-24c6365d54c5",
      "metadata": {
        "id": "5a42c882-aa46-4c9f-8cc8-24c6365d54c5"
      },
      "outputs": [],
      "source": [
        "def insert_data(conn, cursor, books_data):\n",
        "    for book in books_data:\n",
        "        category = book['category']\n",
        "\n",
        "\n",
        "        # Insert or ignore the category (Avoids duplicate entries)\n",
        "        cursor.execute('''\n",
        "        INSERT OR IGNORE INTO Categories (category_name)\n",
        "        VALUES (?)\n",
        "        ''', (category,))\n",
        "\n",
        "\n",
        "        # Get the category_id\n",
        "        cursor.execute('''\n",
        "        SELECT category_id FROM Categories WHERE category_name = ?\n",
        "        ''', (category,))\n",
        "        category_id = cursor.fetchone()[0]\n",
        "\n",
        "\n",
        "        # Insert the book details\n",
        "        cursor.execute('''\n",
        "        INSERT INTO Books (title, price, rating, category_id, description)\n",
        "        VALUES (?, ?, ?, ?, ?)\n",
        "        ''', (book['title'], book['price'], book['rating'], category_id, book['description']))\n",
        "\n",
        "\n",
        "        # Get the book_id\n",
        "        cursor.execute('''\n",
        "        SELECT book_id FROM Books WHERE title = ?\n",
        "        ''', (book['title'],))\n",
        "        book_id = cursor.fetchone()[0]\n",
        "\n",
        "\n",
        "        # Insert the stock details\n",
        "        cursor.execute('''\n",
        "        INSERT INTO Stock (book_id, in_stock, stock_count)\n",
        "        VALUES (?, ?, ?)\n",
        "        ''', (book_id, book['in_stock'], book['stock_count']))\n",
        "\n",
        "\n",
        "        # Insert the product_id\n",
        "        cursor.execute('''\n",
        "        INSERT INTO ProductIDs (book_id, product_id)\n",
        "        VALUES (?, ?)\n",
        "        ''', (book_id, book['product_id']))\n",
        "\n",
        "\n",
        "    conn.commit()\n",
        "\n",
        "\n",
        "    return conn, cursor\n",
        "\n",
        "\n",
        "if __name__ == '__main__':\n",
        "    books_data = load_books_data()\n",
        "\n",
        "\n",
        "    conn = sqlite3.connect('books.db')\n",
        "    cursor = conn.cursor()\n",
        "\n",
        "\n",
        "    # 2.1.1. Write a python script that creates an SQLite database named books.db\n",
        "    conn, cursor = create_db(conn, cursor)\n",
        "\n",
        "    # 2.1.2. Write a python script to structure and insert the unstructured data from books_data.json into books.db\n",
        "    conn, cursor = insert_data(conn, cursor, books_data)"
      ]
    },
    {
      "cell_type": "code",
      "execution_count": 38,
      "id": "46a0e14f",
      "metadata": {
        "id": "46a0e14f"
      },
      "outputs": [],
      "source": [
        "conn, cursor = insert_data(conn, cursor, books_data)"
      ]
    },
    {
      "cell_type": "markdown",
      "id": "95fdd2cf-7ff7-4f8a-9d24-3722b724f2cb",
      "metadata": {
        "id": "95fdd2cf-7ff7-4f8a-9d24-3722b724f2cb"
      },
      "source": [
        "### 2.2 Data Validation\n",
        "Using books.db, write a series of SQL queries to perform the tasks detailed below to validate the data.\n",
        "\n"
      ]
    },
    {
      "cell_type": "markdown",
      "id": "7eb9d9fa-5b2b-4d95-ae71-670796a3e6f3",
      "metadata": {
        "id": "7eb9d9fa-5b2b-4d95-ae71-670796a3e6f3"
      },
      "source": [
        "#### 2.2.1 Get all books in a category\n",
        "Write a Python function `get_books_by_category(cursor, category_name)` that, given a category name, returns a list of books (title and price) that belong to that category from the Books table. The function should return a list tuples in the following format: `[('Book1', 20),('Book2', 5)]`"
      ]
    },
    {
      "cell_type": "code",
      "execution_count": 42,
      "id": "33c9c302-25c6-44b7-8a65-dda779cbd661",
      "metadata": {
        "id": "33c9c302-25c6-44b7-8a65-dda779cbd661"
      },
      "outputs": [],
      "source": [
        "### START FUNCTION\n",
        "def get_books_by_category(cursor, category_name):\n",
        "### Insert your code here\n",
        "  query = \"\"\"\n",
        "  SELECT Books.title, Books.price\n",
        "  FROM Books\n",
        "  JOIN Categories ON Books.category_id = Categories.category_id\n",
        "  WHERE Categories.category_name = ?;\n",
        "  \"\"\"\n",
        "  cursor.execute(query, (category_name,))\n",
        "  output = cursor.fetchall()\n",
        "  return [(book[0], book[1])for book in Books]\n",
        "  result = get_books_by_category(cursor, category_name)\n",
        "  print(result)\n",
        "### END FUNCTION"
      ]
    },
    {
      "cell_type": "markdown",
      "id": "df1f8bc7-de5f-4a81-a45e-32aabc4f3f11",
      "metadata": {
        "id": "df1f8bc7-de5f-4a81-a45e-32aabc4f3f11"
      },
      "source": [
        "#### 2.2.2 Check stock status for a book\n",
        "Write a Python function that, given a book title, checks if the book is currently in stock by querying the Stock table. The function should return a True / False answer."
      ]
    },
    {
      "cell_type": "code",
      "execution_count": 48,
      "id": "756871e2-46ed-46d9-b944-e65ac03e34d9",
      "metadata": {
        "id": "756871e2-46ed-46d9-b944-e65ac03e34d9"
      },
      "outputs": [],
      "source": [
        "### START FUNCTION\n",
        "def is_book_in_stock(cursor, book_title):\n",
        "### Insert your code here\n",
        "  query = \"\"\"\n",
        "  SELECT Stock.in_stock\n",
        "  FROM Books\n",
        "  JOIN Stock ON Books.book_id = Stock.book_id\n",
        "  WHERE Books.title = ?;\n",
        "\"\"\"\n",
        "  cursor.execute(query, (book_title,))\n",
        "  output = cursor.fetchone()\n",
        "\n",
        "  if output and output[0] > 0: # Assuming in_stock is represented as 1 for True\n",
        "      in_stock = True\n",
        "  else:\n",
        "      in_stock = False\n",
        "\n",
        "  # Return the result\n",
        "  return in_stock\n",
        "  result = is_book_in_stock(cursor, book_title)\n",
        "  print(result)\n",
        "\n",
        "### END FUNCTION"
      ]
    },
    {
      "cell_type": "markdown",
      "id": "173bf22e-1ab2-4c01-8850-60ba6c645d73",
      "metadata": {
        "id": "173bf22e-1ab2-4c01-8850-60ba6c645d73"
      },
      "source": [
        "#### 2.2.3 Find the average rating for each category\n",
        "Write a Python function that, given a category name, calculates the average rating of all books in that category.\n"
      ]
    },
    {
      "cell_type": "code",
      "execution_count": null,
      "id": "f0aa3558-2751-400f-be27-135bb40de6df",
      "metadata": {
        "id": "f0aa3558-2751-400f-be27-135bb40de6df"
      },
      "outputs": [],
      "source": [
        "### START FUNCTION\n",
        "def get_average_rating_by_category(cursor, category_name):\n",
        "### Insert your code here\n",
        "    return avg_rating\n",
        "### END FUNCTION"
      ]
    },
    {
      "cell_type": "markdown",
      "id": "20ffe5a5-416a-4ef2-8329-54455a21c489",
      "metadata": {
        "id": "20ffe5a5-416a-4ef2-8329-54455a21c489"
      },
      "source": [
        "#### 2.2.4 Find books that are below a certain price\n",
        "Write a Python function that retrieves the title and price of all books that are priced below a given threshold. The function should return a list tuples in the following format: `[('Book1', 20),('Book2', 5)]`\n"
      ]
    },
    {
      "cell_type": "code",
      "execution_count": null,
      "id": "2609cb7d-f1ed-424b-bcdb-2c4233a38cdf",
      "metadata": {
        "id": "2609cb7d-f1ed-424b-bcdb-2c4233a38cdf"
      },
      "outputs": [],
      "source": [
        "### START FUNCTION\n",
        "def get_books_below_price(cursor, price):\n",
        "### Insert your code here\n",
        "    return books\n",
        "### END FUNCTION"
      ]
    },
    {
      "cell_type": "markdown",
      "id": "2d9590f7-1b2b-4fd1-a536-792f44b39214",
      "metadata": {
        "id": "2d9590f7-1b2b-4fd1-a536-792f44b39214"
      },
      "source": [
        "#### 2.2.5 Identify the best-stocked book within a specific category\n",
        "Write a Python function that, given a category name, finds the book with the highest stock count in that category. Return only the first row if multiple books share the same stock count. The output should be in the format of a tuple, listing the title and stock count.\n"
      ]
    },
    {
      "cell_type": "code",
      "execution_count": null,
      "id": "f2486c7d-6e36-46b6-9d62-fef95d791985",
      "metadata": {
        "id": "f2486c7d-6e36-46b6-9d62-fef95d791985"
      },
      "outputs": [],
      "source": [
        "### START FUNCTION\n",
        "def get_most_stocked_book_by_category(cursor, category_name):\n",
        "### Insert your code here\n",
        "    return most_stocked_book\n",
        "### END FUNCTION"
      ]
    },
    {
      "cell_type": "markdown",
      "id": "a4dc44eb-f0f6-4f4f-b3d6-0b205014395a",
      "metadata": {
        "id": "a4dc44eb-f0f6-4f4f-b3d6-0b205014395a"
      },
      "source": [
        "### Part 3: Wine Quality Dataset Analysis\n",
        "\n"
      ]
    },
    {
      "cell_type": "markdown",
      "id": "a549c689",
      "metadata": {
        "id": "a549c689"
      },
      "source": [
        "You are provided with a [file](https://github.com/Explore-AI/Public-Data/blob/master/Data/winequality-red.csv) named winequality-red.csv which is a dataset related to red vinho verde wine samples, from the north of Portugal.\n",
        "\n",
        "Your goal is to explore this dataset. Clean it if necessary. Identify any biases. Then perform a series of regression analyses to uncover trends. Detect potential biases due to excluded variables, and finally make predictions on wine quality."
      ]
    },
    {
      "cell_type": "markdown",
      "id": "ee12a283-5bb2-427d-878b-f42d1090beb1",
      "metadata": {
        "id": "ee12a283-5bb2-427d-878b-f42d1090beb1"
      },
      "source": [
        "#### 3.1 Loading the Dataset and Data Preparation"
      ]
    },
    {
      "cell_type": "markdown",
      "id": "d49730bc-4789-462d-a9f7-8d2264deb787",
      "metadata": {
        "id": "d49730bc-4789-462d-a9f7-8d2264deb787"
      },
      "source": [
        "#### 3.1.1 Data loading\n",
        "Create a function that loads the dataset using `pandas.DataFrame` and ensure the data is correctly formatted (i.e., all columns should be numeric). The function should return the dataframe."
      ]
    },
    {
      "cell_type": "code",
      "execution_count": null,
      "id": "583652be-3553-4c91-9ea4-47917433fda1",
      "metadata": {
        "id": "583652be-3553-4c91-9ea4-47917433fda1"
      },
      "outputs": [],
      "source": [
        "### START FUNCTION\n",
        "# where DATA_PATH refers to the path where you stored the csv file\n",
        "def load_data(DATA_PATH):\n",
        "### Insert your code here\n",
        "    return data\n",
        "\n",
        "### END FUNCTION"
      ]
    },
    {
      "cell_type": "markdown",
      "id": "7b567045-a5c6-45db-9da4-883e62ca63af",
      "metadata": {
        "id": "7b567045-a5c6-45db-9da4-883e62ca63af"
      },
      "source": [
        "#### 3.1.2 Data Preparation\n",
        "Write a function to separate the target variable (`quality`) from the features and prepare the data for further analysis (e.g., scaling or normalisation if necessary). Your function should return a dataframe (data), and the target variable series."
      ]
    },
    {
      "cell_type": "code",
      "execution_count": null,
      "id": "28e9baf3-3bf5-47cb-9118-74927e9e7ea3",
      "metadata": {
        "id": "28e9baf3-3bf5-47cb-9118-74927e9e7ea3"
      },
      "outputs": [],
      "source": [
        "### START FUNCTION\n",
        "def process_data(data):\n",
        "\n",
        "### Insert your code here\n",
        "    return data, wine_quality\n",
        "\n",
        "### END FUNCTION"
      ]
    },
    {
      "cell_type": "markdown",
      "id": "0cc428a5-d8a1-4eee-af36-ceaee2cbbdbc",
      "metadata": {
        "id": "0cc428a5-d8a1-4eee-af36-ceaee2cbbdbc"
      },
      "source": [
        "#### 3.2 Visualisations and Exploratory Data Analysis\n",
        "Analyse the distribution of classes and the relationships between features to identify patterns or biases in the data."
      ]
    },
    {
      "cell_type": "markdown",
      "id": "de73d007-45af-4f23-836b-87c8b05f46cc",
      "metadata": {
        "id": "de73d007-45af-4f23-836b-87c8b05f46cc"
      },
      "source": [
        "#### 3.2.1 Class Distribution Visualisation\n",
        "Implement a function that visualises the distribution of the wine quality classes. This will help identify any imbalances in the dataset. Make sure to return the figure.\n"
      ]
    },
    {
      "cell_type": "code",
      "execution_count": null,
      "id": "27db2a59-e500-4518-ac0d-1f5e3732d3ca",
      "metadata": {
        "id": "27db2a59-e500-4518-ac0d-1f5e3732d3ca"
      },
      "outputs": [],
      "source": [
        "### START FUNCTION\n",
        "def class_distribution_check(data, quality):\n",
        "### Insert your code here\n",
        "    return fig\n",
        "\n",
        "### END FUNCTION"
      ]
    },
    {
      "cell_type": "markdown",
      "id": "d95e585d-d9d3-40b3-9e3e-d480fdf9746f",
      "metadata": {
        "id": "d95e585d-d9d3-40b3-9e3e-d480fdf9746f"
      },
      "source": [
        "#### 3.2.2 Feature Distribution and Outlier Detection\n",
        "Write a function that creates box plots for each feature to visualise the distribution of values and detect any outliers. Return the figure."
      ]
    },
    {
      "cell_type": "code",
      "execution_count": null,
      "id": "b8ad2a11-6836-40da-93b4-713e6c0b4dff",
      "metadata": {
        "id": "b8ad2a11-6836-40da-93b4-713e6c0b4dff"
      },
      "outputs": [],
      "source": [
        "### START FUNCTION\n",
        "def feature_distribution_and_outliers(data):\n",
        "### Insert your code here\n",
        "    return fig\n",
        "\n",
        "### END FUNCTION"
      ]
    },
    {
      "cell_type": "markdown",
      "id": "9c368805-2e86-4c69-af96-0e96df54d2d7",
      "metadata": {
        "id": "9c368805-2e86-4c69-af96-0e96df54d2d7"
      },
      "source": [
        "#### 3.2.3 Correlation Heatmap\n",
        "Create a function that generates a heatmap that shows the correlation (relationship) between features and the target variable (`quality`). This will help you understand which features are most important to the prediction of wine quality."
      ]
    },
    {
      "cell_type": "code",
      "execution_count": null,
      "id": "bc1d9fce-5175-45b6-954c-1b7d8e4679b1",
      "metadata": {
        "id": "bc1d9fce-5175-45b6-954c-1b7d8e4679b1"
      },
      "outputs": [],
      "source": [
        "### START FUNCTION\n",
        "def correlation_analysis(data, quality):\n",
        "### Insert your code here\n",
        "    return fig\n",
        "\n",
        "### END FUNCTION"
      ]
    },
    {
      "cell_type": "markdown",
      "id": "d9576491-adac-4ea9-b7fb-6900cb259be2",
      "metadata": {
        "id": "d9576491-adac-4ea9-b7fb-6900cb259be2"
      },
      "source": [
        "#### 3.3 Regression Models"
      ]
    },
    {
      "cell_type": "markdown",
      "id": "c1455cf0",
      "metadata": {
        "id": "c1455cf0"
      },
      "source": [
        "Apply different regression techniques to predict wine quality based on the dataset, evaluate the performance of their models, and visualise the results."
      ]
    },
    {
      "cell_type": "markdown",
      "id": "3b57d837-75c3-40b6-a271-9f4837cfd815",
      "metadata": {
        "id": "3b57d837-75c3-40b6-a271-9f4837cfd815"
      },
      "source": [
        "#### 3.3.1 Simple Linear Regression\n",
        "Implement a simple linear regression model using one feature, `sulphates`, to predict wine quality. Calculate the model metrics (R-squared and MSE) and visualise the regression line and the residuals on two separate graphs. Use a test_size= 0.2 and set random_state=42. The function must return the model, the 2 figures, the R-squared and Mean Squared Error."
      ]
    },
    {
      "cell_type": "code",
      "execution_count": null,
      "id": "b843c0fd-0668-4e95-a0b2-ab33601d1d61",
      "metadata": {
        "id": "b843c0fd-0668-4e95-a0b2-ab33601d1d61"
      },
      "outputs": [],
      "source": [
        "### START FUNCTION\n",
        "def perform_simple_regression(df, feature='sulphates'):\n",
        "### Insert your code here\n",
        "    return model, fig, fig_res, r2_score(y_test, y_pred), mean_squared_error(y_test, y_pred)\n",
        "\n",
        "### END FUNCTION"
      ]
    },
    {
      "cell_type": "markdown",
      "id": "6b589e2a-763a-4d3b-9329-2b4831ac4dbe",
      "metadata": {
        "id": "6b589e2a-763a-4d3b-9329-2b4831ac4dbe"
      },
      "source": [
        "#### 3.3.2 Multiple Linear Regression\n",
        "Write a function to perform multiple linear regression using the following features: [`alcohol`, `volatile acidity`, `sulphates`, `citric acid`] to predict wine quality. Calculate the model metrics (R-squared and MSE) and visualise the model coefficients using a bar plot. Use a `test_size=0.2` and set `random_state=42`. The function must return the model, the figure, the R-squared and Mean Squared Error."
      ]
    },
    {
      "cell_type": "code",
      "execution_count": null,
      "id": "dd2f540c-e273-43be-ae66-85ea7aab1e9b",
      "metadata": {
        "id": "dd2f540c-e273-43be-ae66-85ea7aab1e9b"
      },
      "outputs": [],
      "source": [
        "### START FUNCTION\n",
        "def perform_multiple_regression(df, features=['alcohol', 'volatile acidity', 'sulphates', 'citric acid']):\n",
        "### Insert your code here\n",
        "    return model, fig, r2_score(y_test, y_pred), mean_squared_error(y_test, y_pred)\n",
        "\n",
        "### END FUNCTION"
      ]
    },
    {
      "cell_type": "markdown",
      "id": "7a9748e0-79eb-4bda-85d2-267d3acdbdb4",
      "metadata": {
        "id": "7a9748e0-79eb-4bda-85d2-267d3acdbdb4"
      },
      "source": [
        "#### 3.3.3. Polynomial Regression\n",
        "Create a polynomial regression model using one feature, `sulphates`, with a degree of 2. Use a `test_size=0.2` and set `random_state=42`. The function must return the model, the figure, the R-squared and Mean Squared Error. Compare its performance to the simple linear regression model."
      ]
    },
    {
      "cell_type": "code",
      "execution_count": null,
      "id": "8e9ecbd0-bc4d-411b-aa2c-e38022335704",
      "metadata": {
        "id": "8e9ecbd0-bc4d-411b-aa2c-e38022335704"
      },
      "outputs": [],
      "source": [
        "### START FUNCTION\n",
        "def perform_polynomial_regression(df, feature, degree=2):\n",
        "### Insert your code here\n",
        "    return model, fig, r2_score(y_test, y_pred), mean_squared_error(y_test, y_pred)\n",
        "\n",
        "### END FUNCTION"
      ]
    },
    {
      "cell_type": "markdown",
      "id": "e31c6666",
      "metadata": {
        "id": "e31c6666"
      },
      "source": [
        "### END"
      ]
    }
  ],
  "metadata": {
    "kernelspec": {
      "display_name": "Python 3",
      "language": "python",
      "name": "python3"
    },
    "language_info": {
      "codemirror_mode": {
        "name": "ipython",
        "version": 3
      },
      "file_extension": ".py",
      "mimetype": "text/x-python",
      "name": "python",
      "nbconvert_exporter": "python",
      "pygments_lexer": "ipython3",
      "version": "3.11.4"
    },
    "colab": {
      "provenance": []
    }
  },
  "nbformat": 4,
  "nbformat_minor": 5
}